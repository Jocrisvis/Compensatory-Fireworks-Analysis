{
 "cells": [
  {
   "cell_type": "code",
   "execution_count": 1,
   "id": "53d54da7-5e05-474d-9ff9-5291fff87216",
   "metadata": {},
   "outputs": [],
   "source": [
    "import pandas as pd\n",
    "import random"
   ]
  },
  {
   "cell_type": "code",
   "execution_count": 2,
   "id": "0984b504-7336-4118-8cb3-5aafb00a0d89",
   "metadata": {},
   "outputs": [
    {
     "data": {
      "text/html": [
       "<div>\n",
       "<style scoped>\n",
       "    .dataframe tbody tr th:only-of-type {\n",
       "        vertical-align: middle;\n",
       "    }\n",
       "\n",
       "    .dataframe tbody tr th {\n",
       "        vertical-align: top;\n",
       "    }\n",
       "\n",
       "    .dataframe thead th {\n",
       "        text-align: right;\n",
       "    }\n",
       "</style>\n",
       "<table border=\"1\" class=\"dataframe\">\n",
       "  <thead>\n",
       "    <tr style=\"text-align: right;\">\n",
       "      <th></th>\n",
       "      <th>Index</th>\n",
       "      <th>First Name</th>\n",
       "      <th>Last Name</th>\n",
       "      <th>Sex</th>\n",
       "      <th>Email</th>\n",
       "      <th>Phone</th>\n",
       "      <th>Date of birth</th>\n",
       "      <th>Job Title</th>\n",
       "    </tr>\n",
       "  </thead>\n",
       "  <tbody>\n",
       "    <tr>\n",
       "      <th>9994</th>\n",
       "      <td>9995</td>\n",
       "      <td>Allen</td>\n",
       "      <td>Stein</td>\n",
       "      <td>Male</td>\n",
       "      <td>becky55@example.org</td>\n",
       "      <td>4043002051</td>\n",
       "      <td>02-12-25</td>\n",
       "      <td>Scientist, research (medical)</td>\n",
       "    </tr>\n",
       "    <tr>\n",
       "      <th>9995</th>\n",
       "      <td>9996</td>\n",
       "      <td>Tina</td>\n",
       "      <td>Sherman</td>\n",
       "      <td>Male</td>\n",
       "      <td>bartlettcolleen@example.org</td>\n",
       "      <td>(455)476-4044x5755</td>\n",
       "      <td>28-07-74</td>\n",
       "      <td>Scientist, physiological</td>\n",
       "    </tr>\n",
       "    <tr>\n",
       "      <th>9996</th>\n",
       "      <td>9997</td>\n",
       "      <td>Earl</td>\n",
       "      <td>Jennings</td>\n",
       "      <td>Female</td>\n",
       "      <td>andreabenton@example.com</td>\n",
       "      <td>009.056.6505</td>\n",
       "      <td>20-08-32</td>\n",
       "      <td>Warehouse manager</td>\n",
       "    </tr>\n",
       "    <tr>\n",
       "      <th>9997</th>\n",
       "      <td>9998</td>\n",
       "      <td>Ellen</td>\n",
       "      <td>Dominguez</td>\n",
       "      <td>Female</td>\n",
       "      <td>michaelayoder@example.net</td>\n",
       "      <td>409-428-4297x469</td>\n",
       "      <td>06-06-66</td>\n",
       "      <td>Lawyer</td>\n",
       "    </tr>\n",
       "    <tr>\n",
       "      <th>9998</th>\n",
       "      <td>9999</td>\n",
       "      <td>Emma</td>\n",
       "      <td>Clark</td>\n",
       "      <td>Male</td>\n",
       "      <td>pstrickland@example.com</td>\n",
       "      <td>849-868-8653</td>\n",
       "      <td>09-05-07</td>\n",
       "      <td>Accounting technician</td>\n",
       "    </tr>\n",
       "    <tr>\n",
       "      <th>9999</th>\n",
       "      <td>10000</td>\n",
       "      <td>Katrina</td>\n",
       "      <td>Schwartz</td>\n",
       "      <td>Female</td>\n",
       "      <td>andres56@example.org</td>\n",
       "      <td>001-874-330-5546x16770</td>\n",
       "      <td>14-08-35</td>\n",
       "      <td>Drilling engineer</td>\n",
       "    </tr>\n",
       "  </tbody>\n",
       "</table>\n",
       "</div>"
      ],
      "text/plain": [
       "      Index First Name  Last Name     Sex                        Email  \\\n",
       "9994   9995      Allen      Stein    Male          becky55@example.org   \n",
       "9995   9996       Tina    Sherman    Male  bartlettcolleen@example.org   \n",
       "9996   9997       Earl   Jennings  Female     andreabenton@example.com   \n",
       "9997   9998      Ellen  Dominguez  Female    michaelayoder@example.net   \n",
       "9998   9999       Emma      Clark    Male      pstrickland@example.com   \n",
       "9999  10000    Katrina   Schwartz  Female         andres56@example.org   \n",
       "\n",
       "                       Phone Date of birth                      Job Title  \n",
       "9994              4043002051      02-12-25  Scientist, research (medical)  \n",
       "9995      (455)476-4044x5755      28-07-74       Scientist, physiological  \n",
       "9996            009.056.6505      20-08-32              Warehouse manager  \n",
       "9997        409-428-4297x469      06-06-66                         Lawyer  \n",
       "9998            849-868-8653      09-05-07          Accounting technician  \n",
       "9999  001-874-330-5546x16770      14-08-35              Drilling engineer  "
      ]
     },
     "execution_count": 2,
     "metadata": {},
     "output_type": "execute_result"
    }
   ],
   "source": [
    "people = pd.read_csv(\"C:/Users/WENCESLAO/Desktop/Employee 1000x.csv\")\n",
    "people.tail(6)"
   ]
  },
  {
   "cell_type": "code",
   "execution_count": 3,
   "id": "17884d42-9dbe-4aed-8b83-915803d7461b",
   "metadata": {},
   "outputs": [],
   "source": [
    "col = people[['Index']]"
   ]
  },
  {
   "cell_type": "code",
   "execution_count": 4,
   "id": "fd45053a-464a-4e9a-a3ed-e838987f25fa",
   "metadata": {},
   "outputs": [],
   "source": [
    "data = [\n",
    "    # Funny benefits\n",
    "    [1, \"Unlimited coffee refills\"],\n",
    "    [2, \"Free nap pods\"],\n",
    "    [3, \"Pizza Fridays\"],\n",
    "    [4, \"Work-from-beach option\"],\n",
    "    [5, \"Office dog hugs\"],\n",
    "    [6, \"Birthday day-off\"],\n",
    "    [7, \"Meeting-free Mondays\"],\n",
    "    [8, \"Unlimited snacks\"],\n",
    "    [9, \"Free gym naps\"],\n",
    "    [10, \"Company-provided teleportation\"],\n",
    "    [11, \"Chair massages\"],\n",
    "    [12, \"Free ice cream breaks\"],\n",
    "    [13, \"Office karaoke nights\"],\n",
    "    [14, \"No emails after 5pm\"],\n",
    "    [15, \"Casual pajamas day\"],\n",
    "    [16, \"Desk plant bonus\"],\n",
    "    [17, \"Paid coffee tasting trips\"],\n",
    "    [18, \"Stress-ball allowance\"],\n",
    "    [19, \"Free Netflix for research\"],\n",
    "    [20, \"Team-building on roller coasters\"],\n",
    "    [21, \"Health insurance coverage\"],\n",
    "    [22, \"Retirement savings plan\"],\n",
    "    [23, \"Paid vacation days\"],\n",
    "    [24, \"Professional development budget\"],\n",
    "    [25, \"Flexible working hours\"],\n",
    "    [26, \"Pewdiepie and Rubius meeting\"],\n",
    "    [27, \"a fish\"]\n",
    "\n",
    "]\n",
    "\n",
    "benefits = pd.DataFrame(data, columns=[\"Number\", \"Benefit\"])"
   ]
  },
  {
   "cell_type": "code",
   "execution_count": 5,
   "id": "e0fcd51e-57d3-4751-88e5-717525493cb8",
   "metadata": {},
   "outputs": [],
   "source": [
    "# We will create the question input to avoid \"str\" or numbers below/above the indicated\n",
    "def Q():\n",
    "    user_input = input(\"Please, insert your Employee ID: \").strip()\n",
    "\n",
    "    # check if it's digits\n",
    "    if user_input.isdigit():\n",
    "        a = int(user_input)  # convert to number\n",
    "        if 1 <= a <= 9999:\n",
    "            print(\"✅\")\n",
    "            return a\n",
    "        else:\n",
    "            print(\"❌ Error: ID must be between 1 and 9999\")\n",
    "            return None\n",
    "    else:\n",
    "        print(\"❌ Error: ID must be numeric\")\n",
    "        return None"
   ]
  },
  {
   "cell_type": "code",
   "execution_count": 6,
   "id": "ed219e8c-92f4-4ffb-b2f5-084a2079acca",
   "metadata": {
    "scrolled": true
   },
   "outputs": [
    {
     "data": {
      "text/plain": [
       "'    \\nfor ee in range(1):\\n print(system())  \\n'"
      ]
     },
     "execution_count": 6,
     "metadata": {},
     "output_type": "execute_result"
    }
   ],
   "source": [
    "# We will create the system which assigns a random number benefits\n",
    "def system():\n",
    "  # p = Q()\n",
    "   num_benefits = random.randint(1, 26)\n",
    "   b = random.sample(list(benefits[\"Number\"]), num_benefits)\n",
    "   return f'Congratulations! These are your benefits: {b}'\n",
    "\n",
    "'''    \n",
    "for ee in range(1):\n",
    " print(system())  \n",
    "'''\n"
   ]
  },
  {
   "cell_type": "code",
   "execution_count": 7,
   "id": "0aae2c0c-6f71-4a8f-a120-41fc5d0bd060",
   "metadata": {},
   "outputs": [
    {
     "name": "stdin",
     "output_type": "stream",
     "text": [
      "Please, insert your Employee ID:  1\n"
     ]
    },
    {
     "name": "stdout",
     "output_type": "stream",
     "text": [
      "✅\n",
      "Congratulations! These are your benefits: [13, 20, 18, 11, 1, 6, 25, 12, 24, 15, 17, 5, 19, 22, 21, 4, 7, 3, 9, 26, 10]\n"
     ]
    }
   ],
   "source": [
    "# We will create a combination of Input an Results\n",
    "def final():\n",
    " for ee in range(1):\n",
    "    if Q() is not None:\n",
    "     print(system())\n",
    "    else:\n",
    "       print(\"Please, try again\")\n",
    "final()"
   ]
  },
  {
   "cell_type": "code",
   "execution_count": 8,
   "id": "4dc7afdb-587f-4548-b9f8-d8632a34c143",
   "metadata": {},
   "outputs": [
    {
     "ename": "NameError",
     "evalue": "name 'ee_benefits' is not defined",
     "output_type": "error",
     "traceback": [
      "\u001b[1;31m---------------------------------------------------------------------------\u001b[0m",
      "\u001b[1;31mNameError\u001b[0m                                 Traceback (most recent call last)",
      "Cell \u001b[1;32mIn[8], line 2\u001b[0m\n\u001b[0;32m      1\u001b[0m \u001b[38;5;66;03m# We will create the table which track all the datas (Input (ID) and result (Numbers of Benefits))\u001b[39;00m\n\u001b[1;32m----> 2\u001b[0m ee_benefits \u001b[38;5;241m=\u001b[39m pd\u001b[38;5;241m.\u001b[39mconcat([ee_benefits, pd\u001b[38;5;241m.\u001b[39mDataFrame({\u001b[38;5;124m\"\u001b[39m\u001b[38;5;124mID\u001b[39m\u001b[38;5;124m\"\u001b[39m: [final], \u001b[38;5;124m\"\u001b[39m\u001b[38;5;124mBenefits\u001b[39m\u001b[38;5;124m\"\u001b[39m: [system]})],\n\u001b[0;32m      3\u001b[0m ignore_index\u001b[38;5;241m=\u001b[39m\u001b[38;5;28;01mTrue\u001b[39;00m)\n\u001b[0;32m      4\u001b[0m ee_benefits\n",
      "\u001b[1;31mNameError\u001b[0m: name 'ee_benefits' is not defined"
     ]
    }
   ],
   "source": [
    "'''\n",
    "# We will create the table which track all the datas (Input (ID) and result (Numbers of Benefits))\n",
    "ee_benefits = pd.concat([ee_benefits, pd.DataFrame({\"ID\": [final], \"Benefits\": [system]})],\n",
    "ignore_index=True)\n",
    "ee_benefits\n",
    "'''"
   ]
  },
  {
   "cell_type": "code",
   "execution_count": null,
   "id": "043dc377-c2e0-4021-bd79-889d04675ca5",
   "metadata": {},
   "outputs": [],
   "source": []
  },
  {
   "cell_type": "code",
   "execution_count": null,
   "id": "74500ef0-4bce-42a8-99f6-85c3174d6429",
   "metadata": {},
   "outputs": [],
   "source": []
  }
 ],
 "metadata": {
  "kernelspec": {
   "display_name": "Python 3 (ipykernel)",
   "language": "python",
   "name": "python3"
  },
  "language_info": {
   "codemirror_mode": {
    "name": "ipython",
    "version": 3
   },
   "file_extension": ".py",
   "mimetype": "text/x-python",
   "name": "python",
   "nbconvert_exporter": "python",
   "pygments_lexer": "ipython3",
   "version": "3.11.7"
  }
 },
 "nbformat": 4,
 "nbformat_minor": 5
}
